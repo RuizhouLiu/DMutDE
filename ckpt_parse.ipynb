{
 "cells": [
  {
   "cell_type": "code",
   "execution_count": 1,
   "metadata": {},
   "outputs": [],
   "source": [
    "import os\n",
    "os.environ['CUDA_VISIBLE_DEVICES'] = '0'\n",
    "import torch\n",
    "\n",
    "import argparse\n",
    "import json\n",
    "import os\n",
    "\n",
    "import numpy as np\n",
    "import torch\n",
    "\n",
    "import models\n",
    "from datasets.kg_dataset import KGDataset\n",
    "from utils.train import avg_both, format_metrics\n",
    "\n",
    "from matplotlib import pyplot as plt\n",
    "import torch.nn.functional as F"
   ]
  },
  {
   "cell_type": "code",
   "execution_count": 2,
   "metadata": {},
   "outputs": [],
   "source": [
    "def test(model_dir):\n",
    "    # load config\n",
    "    with open(os.path.join(model_dir, \"config.json\"), \"r\") as f:\n",
    "        config = json.load(f)\n",
    "    args = argparse.Namespace(**config)\n",
    "\n",
    "    # create dataset\n",
    "    dataset_path = os.path.join(\"/home/liuruizhou/paper_code/DVKGE_old/data\", args.dataset)\n",
    "    dataset = KGDataset(dataset_path, False)\n",
    "    test_examples = dataset.get_examples(\"test\")\n",
    "    filters = dataset.get_filters()\n",
    "\n",
    "    # load pretrained model weights\n",
    "    model = getattr(models, args.model)(args)\n",
    "    device = 'cuda'\n",
    "    model.to(device)\n",
    "    model.load_state_dict(torch.load(os.path.join(model_dir, 'model.pt')))\n",
    "    model.set_eval_hyper_dist_n_space_idx(None)\n",
    "\n",
    "    # eval\n",
    "    test_metrics = avg_both(*model.compute_metrics(test_examples, filters))\n",
    "    return test_metrics, model, test_examples, filters\n"
   ]
  },
  {
   "cell_type": "code",
   "execution_count": 3,
   "metadata": {},
   "outputs": [
    {
     "name": "stdout",
     "output_type": "stream",
     "text": [
      "eval_hyper_dist_n_space_idx is set from None to None\n"
     ]
    },
    {
     "name": "stderr",
     "output_type": "stream",
     "text": [
      "/home/liuruizhou/paper_code/DVKGE_GL_v10/utils/pmath.py:888: UserWarning: where received a uint8 condition tensor. This behavior is deprecated and will be removed in a future version of PyTorch. Use a boolean condition instead. (Triggered internally at  ../aten/src/ATen/native/TensorCompare.cpp:402.)\n",
      "  res = torch.where(cond, res_0, res_c)\n"
     ]
    },
    {
     "name": "stdout",
     "output_type": "stream",
     "text": [
      "\t test MR: 2203.88 | MRR: 0.502 | H@1: 0.458 | H@3: 0.516 | H@10: 0.587\n"
     ]
    }
   ],
   "source": [
    "model_dir = \"/home/liuruizhou/paper_code/DVKGE_GL_v10/logs/DVKGE_01_21_51\"\n",
    "test_metrics, model, test_examples, filters = test(model_dir)\n",
    "print(format_metrics(test_metrics, split='test'))"
   ]
  },
  {
   "cell_type": "code",
   "execution_count": 6,
   "metadata": {},
   "outputs": [
    {
     "data": {
      "text/plain": [
       "array([[1.82248639e-03, 6.04874596e-04, 4.06117724e-04, 4.76782778e-04,\n",
       "        6.94660561e-04, 8.91994486e-04, 1.02027579e-03],\n",
       "       [6.15438575e-04, 1.19095864e+00, 2.53925540e-03, 7.86738359e-04,\n",
       "        3.02995477e-01, 2.61466469e-04, 1.93243278e-04],\n",
       "       [1.01219839e-03, 9.10987278e-04, 3.63719537e-03, 4.52158664e-04,\n",
       "        1.61931581e-03, 1.55174940e-03, 1.18136791e-03],\n",
       "       [5.33950975e-02, 1.87532122e-02, 2.19796934e-03, 7.27034756e-04,\n",
       "        5.76460573e-03, 8.11653546e-02, 3.60098584e-01],\n",
       "       [6.39518251e-02, 1.03880685e-04, 1.52469866e-01, 5.36134432e-02,\n",
       "        1.23470727e-03, 2.63522201e-01, 6.60464951e-01],\n",
       "       [2.05649489e-03, 3.25858631e-03, 1.17761854e-03, 7.68354937e-04,\n",
       "        1.07221517e-03, 1.71402401e-03, 2.23518350e-03],\n",
       "       [6.91518143e-03, 1.01631012e+00, 2.69060454e-03, 1.48123462e-04,\n",
       "        7.58223571e-01, 2.69501434e-03, 4.67339487e-04],\n",
       "       [2.35740742e-03, 2.80740380e-03, 7.98217178e-04, 9.94377447e-04,\n",
       "        1.11254976e-03, 9.78581910e-04, 2.51192068e-03],\n",
       "       [1.24893326e-03, 2.14010078e-03, 1.15256261e-03, 9.47402475e-04,\n",
       "        1.37756768e-03, 7.10516573e-04, 2.08988422e-03],\n",
       "       [1.24551736e-02, 1.24303596e-02, 1.69352171e-02, 6.16184100e-03,\n",
       "        2.08004544e-02, 2.01536718e-02, 2.60830432e-02],\n",
       "       [5.88491111e-03, 2.77738130e-03, 1.76766197e-03, 9.83214418e-04,\n",
       "        3.27952284e-03, 2.61086572e-03, 5.02229370e-03],\n",
       "       [1.64412264e-03, 3.48778908e-04, 3.58159753e-04, 4.49667395e-04,\n",
       "        6.65605284e-04, 5.74820616e-04, 1.05311697e-03],\n",
       "       [6.76468537e-04, 1.18398729e+00, 2.30504922e-03, 6.46493810e-04,\n",
       "        2.94908604e-01, 3.53073218e-04, 2.11552349e-04],\n",
       "       [1.45054225e-03, 1.14228059e-03, 4.11447059e-03, 4.50820779e-04,\n",
       "        6.08686686e-04, 1.69094514e-03, 1.79067435e-03],\n",
       "       [1.36278057e-01, 1.80359340e-02, 1.33576450e-03, 2.29135513e-04,\n",
       "        2.18314816e-03, 3.55032566e-02, 5.93155357e-01],\n",
       "       [3.72365057e-03, 9.75139727e-05, 1.01236882e-02, 4.65916170e-02,\n",
       "        9.61870118e-05, 3.11883646e-02, 4.19682106e-01],\n",
       "       [3.80440068e-03, 3.22603617e-03, 4.62670999e-03, 3.17916191e-03,\n",
       "        2.21999855e-03, 3.55714164e-03, 2.57497927e-03],\n",
       "       [4.12222682e-01, 1.15468420e+00, 1.29765870e-01, 2.78847371e-03,\n",
       "        8.22248555e-01, 2.63756864e-01, 2.90296656e-02],\n",
       "       [2.26728151e-01, 1.24670304e-01, 2.19276725e-01, 8.93518753e-02,\n",
       "        7.62563263e-02, 1.78636867e-01, 8.50214878e-02],\n",
       "       [7.02646635e-02, 3.60789646e-02, 1.66951766e-01, 7.19090701e-02,\n",
       "        3.52270286e-02, 5.70506497e-02, 6.12772876e-02],\n",
       "       [1.66500487e-02, 6.40225431e-03, 1.42839733e-02, 5.11428365e-03,\n",
       "        1.78444913e-02, 1.39118251e-02, 2.17311908e-02],\n",
       "       [1.53775560e-04, 2.71416770e-04, 1.72677916e-04, 1.07222038e-04,\n",
       "        2.28234192e-04, 2.75667833e-04, 6.65808110e-04]])"
      ]
     },
     "execution_count": 6,
     "metadata": {},
     "output_type": "execute_result"
    },
    {
     "data": {
      "image/png": "[encoded data removed]",
      "text/plain": [
       "<Figure size 640x480 with 2 Axes>"
      ]
     },
     "metadata": {},
     "output_type": "display_data"
    }
   ],
   "source": [
    "data = (F.softplus(model.c_local.weight)).detach().cpu().numpy()\n",
    "im = plt.imshow(data, cmap=plt.cm.hot_r)\n",
    "plt.colorbar(im)\n",
    "data"
   ]
  },
  {
   "cell_type": "code",
   "execution_count": 21,
   "metadata": {},
   "outputs": [
    {
     "name": "stdout",
     "output_type": "stream",
     "text": [
      "eval_hyper_dist_n_space_idx is set from 11 to 0\n",
      "eval_hyper_dist_n_space_idx is set from 0 to 1\n",
      "eval_hyper_dist_n_space_idx is set from 1 to 2\n",
      "eval_hyper_dist_n_space_idx is set from 2 to 3\n",
      "eval_hyper_dist_n_space_idx is set from 3 to 4\n",
      "eval_hyper_dist_n_space_idx is set from 4 to 5\n",
      "eval_hyper_dist_n_space_idx is set from 5 to 6\n",
      "eval_hyper_dist_n_space_idx is set from 6 to 7\n",
      "eval_hyper_dist_n_space_idx is set from 7 to 8\n",
      "eval_hyper_dist_n_space_idx is set from 8 to 9\n",
      "eval_hyper_dist_n_space_idx is set from 9 to 10\n",
      "eval_hyper_dist_n_space_idx is set from 10 to 11\n"
     ]
    }
   ],
   "source": [
    "mrr_mat = np.zeros((2 * (test_examples[:, 1].max()+1), model.n_space))\n",
    "mean_mrr_mat = np.zeros(((test_examples[:, 1].max()+1), model.n_space))\n",
    "for space_i in range(model.n_space): \n",
    "    model.set_eval_hyper_dist_n_space_idx(space_i)\n",
    "    for rel_i in test_examples[:, 1].unique():\n",
    "        rel_i_test_examples = test_examples[test_examples[:, 1] == rel_i]\n",
    "        mean_rank, mean_reciprocal_rank, hits_at = model.compute_metrics(rel_i_test_examples.cuda(), filters)\n",
    "        mrr_mat[rel_i, space_i] = mean_reciprocal_rank['rhs']\n",
    "        mrr_mat[rel_i + test_examples[:, 1].max()+1, space_i] = mean_reciprocal_rank['lhs']\n",
    "        mean_mrr_mat[rel_i, space_i] = avg_both(mean_rank, mean_reciprocal_rank, hits_at)['MRR']\n",
    "        # print(f\"rel id: {rel_i} | num: {rel_i_test_examples.shape[0]} | MRR: {test_metrics['MRR']}\")\n"
   ]
  },
  {
   "cell_type": "code",
   "execution_count": 20,
   "metadata": {},
   "outputs": [
    {
     "data": {
      "text/plain": [
       "(22, 12)"
      ]
     },
     "execution_count": 20,
     "metadata": {},
     "output_type": "execute_result"
    },
    {
     "data": {
      "image/png": "[encoded data removed]",
      "text/plain": [
       "<Figure size 640x480 with 2 Axes>"
      ]
     },
     "metadata": {},
     "output_type": "display_data"
    }
   ],
   "source": [
    "im = plt.imshow(mrr_mat, cmap=plt.cm.hot_r)\n",
    "plt.colorbar(im)\n",
    "mrr_mat.shape"
   ]
  },
  {
   "cell_type": "code",
   "execution_count": 22,
   "metadata": {},
   "outputs": [
    {
     "data": {
      "text/plain": [
       "<matplotlib.colorbar.Colorbar at 0x7fe8a53386d0>"
      ]
     },
     "execution_count": 22,
     "metadata": {},
     "output_type": "execute_result"
    },
    {
     "data": {
      "image/png": "[encoded data removed]",
      "text/plain": [
       "<Figure size 640x480 with 2 Axes>"
      ]
     },
     "metadata": {},
     "output_type": "display_data"
    }
   ],
   "source": [
    "im = plt.imshow(mean_mrr_mat, cmap=plt.cm.hot_r)\n",
    "plt.colorbar(im)"
   ]
  },
  {
   "cell_type": "code",
   "execution_count": 35,
   "metadata": {},
   "outputs": [
    {
     "data": {
      "text/plain": [
       "array([False, False, False, False, False, False, False, False, False,\n",
       "       False, False, False])"
      ]
     },
     "execution_count": 35,
     "metadata": {},
     "output_type": "execute_result"
    }
   ],
   "source": [
    "ahht_mrr = np.array([[0.59861934],\n",
    "       [0.84503204],\n",
    "       [0.73100039],\n",
    "       [0.15683475],\n",
    "       [0.17747983],\n",
    "       [0.31732733],\n",
    "       [0.21184498],\n",
    "       [0.35361298],\n",
    "       [0.3341423 ],\n",
    "       [1.        ],\n",
    "       [0.35964276]])\n",
    "((mean_mrr_mat - ahht_mrr) >= 0)[10]"
   ]
  },
  {
   "cell_type": "code",
   "execution_count": null,
   "metadata": {},
   "outputs": [],
   "source": []
  }
 ],
 "metadata": {
  "kernelspec": {
   "display_name": "base",
   "language": "python",
   "name": "python3"
  },
  "language_info": {
   "codemirror_mode": {
    "name": "ipython",
    "version": 3
   },
   "file_extension": ".py",
   "mimetype": "text/x-python",
   "name": "python",
   "nbconvert_exporter": "python",
   "pygments_lexer": "ipython3",
   "version": "3.7.4"
  },
  "orig_nbformat": 4,
  "vscode": {
   "interpreter": {
    "hash": "61a57a4b5406d2de388e2f91097d4e4bcd7d5f4a46f53a795aa28a02eed27fc5"
   }
  }
 },
 "nbformat": 4,
 "nbformat_minor": 2
}
